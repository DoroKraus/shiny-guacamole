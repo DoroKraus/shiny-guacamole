{
 "cells": [
  {
   "cell_type": "markdown",
   "metadata": {},
   "source": [
    "# Exercise Sheet 1: Python Basics\n",
    "\n",
    "This first  exercise sheet tests the basic functionalities of the Python programming language in the context of a simple prediction task. We consider the problem of predicting health risk of subjects from personal data and habits. We first use for this task a decision tree\n",
    "\n",
    "![](tree.png)\n",
    "\n",
    "adapted from the webpage http://www.refactorthis.net/post/2013/04/10/Machine-Learning-tutorial-How-to-create-a-decision-tree-in-RapidMiner-using-the-Titanic-passenger-data-set.aspx. For this exercise sheet, you are required to use only pure Python, and to not import any module, including numpy. In exercise sheet 2, the nearest neighbor part of this exercise sheet will be revisited with numpy."
   ]
  },
  {
   "cell_type": "markdown",
   "metadata": {},
   "source": [
    "## Classifying a single instance (15 P)\n",
    "\n",
    "* Create a function that takes as input a tuple containing values for attributes (smoker,age,diet), and computes the output of the decision tree.\n",
    "* Test your function on the tuple `('yes',31,'good')`,"
   ]
  },
  {
   "cell_type": "code",
   "execution_count": 239,
   "metadata": {},
   "outputs": [
    {
     "data": {
      "text/plain": [
       "(('yes', 31, 'good'), 'more')"
      ]
     },
     "execution_count": 239,
     "metadata": {},
     "output_type": "execute_result"
    }
   ],
   "source": [
    "#calcRisk takes a tuple as input and return a new tuple, now including a calculated risk\n",
    "def calcRisk(personData):\n",
    "    \n",
    "    #calculate the risk acccording to the decision tree\n",
    "    if personData[0] == 'yes':\n",
    "        if personData[1] >= 29.5:\n",
    "            risk = 'more'\n",
    "        elif personData[1] <= 29.5:\n",
    "            risk = 'less'\n",
    "        #since the 29.5 is not included in the tree it will be undefined\n",
    "        else:\n",
    "            risk = 'unknown'\n",
    "    elif personData[0] == 'no':\n",
    "        if personData[2] == 'good':\n",
    "            risk = 'less'\n",
    "        elif personData[2] == 'poor':\n",
    "            risk = 'more'\n",
    "        else:\n",
    "            risk = 'unknown'\n",
    "    else:\n",
    "        risk = 'unknown'\n",
    "\n",
    "    # create a new tuple in the following format: ((’yes’, 31, ’good’), ’more’)\n",
    "    riskData = tuple(personData), risk\n",
    "    \n",
    "    return riskData\n",
    "\n",
    "#print\n",
    "calcRisk(('yes',31,'good'))"
   ]
  },
  {
   "cell_type": "markdown",
   "metadata": {},
   "source": [
    "## Reading a dataset from a text file (10 P)\n",
    "\n",
    "The file `health-test.txt` contains several fictious records of personal data and habits.\n",
    "\n",
    "* Read the file automatically using the methods introduced during the lecture.\n",
    "* Represent the dataset as a list of tuples."
   ]
  },
  {
   "cell_type": "code",
   "execution_count": 242,
   "metadata": {
    "scrolled": true
   },
   "outputs": [],
   "source": [
    "def readPatientList(filename):\n",
    "    f = open(filename,'r')\n",
    "\n",
    "    #create list\n",
    "    dataset = []\n",
    "    lineData = ()\n",
    "\n",
    "\n",
    "    #create a list, including all the lines of the file\n",
    "    for line in f:\n",
    "        #read a line and save it in the tuple 'lineData'\n",
    "        lineData = str.split(line[:-1],',')\n",
    "\n",
    "        #convert the second entry to int\n",
    "        lineData[1] = int(lineData[1])\n",
    "\n",
    "        #add the tuple to the list\n",
    "        dataset.append(tuple(lineData))\n",
    "\n",
    "    #print dataset    \n",
    "    return dataset\n",
    "\n",
    "dataset = readPatientList('health-test.txt')"
   ]
  },
  {
   "cell_type": "markdown",
   "metadata": {},
   "source": [
    "## Applying the decision tree to the dataset (15 P)\n",
    "\n",
    "* Apply the decision tree to all points in the dataset, and compute the percentage of them that are classified as \"more risk\"."
   ]
  },
  {
   "cell_type": "code",
   "execution_count": 243,
   "metadata": {},
   "outputs": [
    {
     "name": "stdout",
     "output_type": "stream",
     "text": [
      "0.375\n"
     ]
    }
   ],
   "source": [
    "#create a counter for patients with 'more' risk\n",
    "riskyPatientCounter = 0\n",
    "\n",
    "#for each patient\n",
    "for item in dataset:\n",
    "    #calc risk and count if 'more' risky\n",
    "    riskList = calcRisk(item)\n",
    "    if riskList[1] == 'more':\n",
    "        riskyPatientCounter = riskyPatientCounter + 1\n",
    "\n",
    "#print the percentage of more risky patients\n",
    "print(riskyPatientCounter / float(len(dataset)))"
   ]
  },
  {
   "cell_type": "markdown",
   "metadata": {},
   "source": [
    "## Learning from examples (10 P)\n",
    "\n",
    "Suppose that instead of relying on a fixed decision tree, we would like to use a data-driven approach where data points are classified based on a set of training observations manually labeled by experts. Such labeled dataset is available in the file `health-train.txt`. The first three columns have the same meaning than for `health-test.txt`, and the last column corresponds to the labels.\n",
    "\n",
    "* Write a procedure that reads this file and converts it into a list of pairs. The first element of each pair is a triplet of attributes, and the second element is the label."
   ]
  },
  {
   "cell_type": "code",
   "execution_count": 244,
   "metadata": {},
   "outputs": [
    {
     "data": {
      "text/plain": [
       "[(('yes', 54, 'good'), 'less'),\n",
       " (('no', 55, 'good'), 'less'),\n",
       " (('no', 26, 'good'), 'less'),\n",
       " (('yes', 40, 'good'), 'more'),\n",
       " (('yes', 25, 'poor'), 'less'),\n",
       " (('no', 13, 'poor'), 'more'),\n",
       " (('no', 15, 'good'), 'less'),\n",
       " (('no', 50, 'poor'), 'more'),\n",
       " (('yes', 33, 'good'), 'more'),\n",
       " (('no', 35, 'good'), 'less'),\n",
       " (('no', 41, 'good'), 'less'),\n",
       " (('yes', 30, 'poor'), 'more'),\n",
       " (('no', 39, 'poor'), 'more'),\n",
       " (('no', 20, 'good'), 'less'),\n",
       " (('yes', 18, 'poor'), 'less'),\n",
       " (('yes', 55, 'good'), 'more')]"
      ]
     },
     "execution_count": 244,
     "metadata": {},
     "output_type": "execute_result"
    }
   ],
   "source": [
    "#read patient list from file\n",
    "dataSetTrainRaw = readPatientList('health-train.txt')\n",
    "\n",
    "datasetTrain = []\n",
    "\n",
    "#format patient list\n",
    "for item in dataSetTrainRaw:    \n",
    "    #restructure tuple from ('yes', 54, 'good', 'less') to (('yes', 54, 'good'), 'less')\n",
    "    lineData = tuple(item[:3]),item[3]\n",
    "    datasetTrain.append(tuple(lineData))\n",
    "\n",
    "# dataset\n",
    "datasetTrain"
   ]
  },
  {
   "cell_type": "markdown",
   "metadata": {},
   "source": [
    "## Nearest neighbor classifier (25 P)\n",
    "\n",
    "We consider the nearest neighbor algorithm that classifies test points following the label of the nearest neighbor in the training data. For this, we need to define a distance function between data points. We define it to be\n",
    "\n",
    "`d(a,b) = (a[0]!=b[0])+((a[1]-b[1])/50.0)**2+(a[2]!=b[2])`\n",
    "\n",
    "where `a` and `b` are two tuples corrsponding to the attributes of two data points.\n",
    "\n",
    "* Write a function that retrieves for a test point the nearest neighbor in the training set, and classifies the test point accordingly.\n",
    "* Test your function on the tuple `('yes',31,'good')`"
   ]
  },
  {
   "cell_type": "code",
   "execution_count": 247,
   "metadata": {},
   "outputs": [
    {
     "data": {
      "text/plain": [
       "(('yes', 33, 'good'), 'more')"
      ]
     },
     "execution_count": 247,
     "metadata": {},
     "output_type": "execute_result"
    }
   ],
   "source": [
    "#gets tuple and return nearest tuple from dataset\n",
    "def calcNearestNeighbour(personData):\n",
    "    \n",
    "    distances = []\n",
    "    \n",
    "    #calc distance for each dataset entry (collect in list)\n",
    "    for item in datasetTrain:\n",
    "        distances = distances + [(personData[0]!=item[0][0])+((personData[1]-item[0][1])/50.0)**2+(personData[2]!=item[0][2])]\n",
    "\n",
    "    #return the dataset entry with the smallest calculated distance\n",
    "    return(datasetTrain[distances.index(min(distances))])\n",
    "\n",
    "calcNearestNeighbour(('yes',31,'good'))"
   ]
  },
  {
   "cell_type": "markdown",
   "metadata": {},
   "source": [
    "* Apply both the decision tree and nearest neighbor classifiers on the test set, and find the data point(s) for which the two classifiers disagree, and with which probability it happens."
   ]
  },
  {
   "cell_type": "code",
   "execution_count": 249,
   "metadata": {},
   "outputs": [
    {
     "data": {
      "text/plain": [
       "([('yes', 51, 'good')], 0.25)"
      ]
     },
     "execution_count": 249,
     "metadata": {},
     "output_type": "execute_result"
    }
   ],
   "source": [
    "datsetTest = readPatientList('health-test.txt')\n",
    "\n",
    "unequalsCounter = 0\n",
    "unequalRisks = []\n",
    "\n",
    "for item in datasetTest:\n",
    "    #if the risk entries in the train and the tree datasets differ for a patient\n",
    "    if calcNearestNeighbour(item)[1] != calcRisk(item)[1]:\n",
    "        #save the current patient's data and add 1 to the counter\n",
    "        unequalRisks.append(item)\n",
    "        unequalsCounter = EqualsCounter + 1\n",
    "        \n",
    "#print the patient's data and the percentage of failure\n",
    "unequalRisks, unequalsCounter/float(len(datasetTest))\n"
   ]
  },
  {
   "cell_type": "markdown",
   "metadata": {},
   "source": [
    "One problem of simple nearest neighbors is that one needs to compare the point to predict to all data points in the training set. This can be slow for datasets of thousands of points or more. Alternatively, some classifiers train a model first, and then use it to classify the data.\n",
    "\n",
    "## Nearest mean classifier (25 P)\n",
    "\n",
    "We consider one such trainable model, which operates in two steps:\n",
    "\n",
    "(1) Compute the average point for each class, (2) classify new points to be of the class whose average point is nearest to the point to predict.\n",
    "\n",
    "For this classifier, we convert the attributes smoker and diet to real values (for smoker: yes=1.0 and no=0.0, and for diet: good=0.0 and poor=1.0), and use the modified distance function:\n",
    "\n",
    "`d(a,b) = (a[0]-b[0])**2+((a[1]-b[1])/50.0)**2+(a[2]-b[2])**2`\n",
    "\n",
    "We adopt an object-oriented approach for building this classifier.\n",
    "\n",
    "* Implement the methods `train` and `predict` of the class `NearestMeanClassifier`."
   ]
  },
  {
   "cell_type": "code",
   "execution_count": null,
   "metadata": {
    "collapsed": true
   },
   "outputs": [],
   "source": [
    "class NearestMeanClassifier:\n",
    "    \n",
    "    # Training method that takes as input a dataset\n",
    "    # and produces two internal vectors corresponding\n",
    "    # to the mean of each class.\n",
    "    def train(self,dataset):\n",
    "        ### Replace by your own code\n",
    "        pass\n",
    "        ###\n",
    "    \n",
    "    # Prediction method that takes as input a new data\n",
    "    # point and predicts it to belong to the class with\n",
    "    # nearest mean.\n",
    "    def predict(self,x):\n",
    "        ### Replace by your own code\n",
    "        pass\n",
    "        ###"
   ]
  },
  {
   "cell_type": "markdown",
   "metadata": {},
   "source": [
    "* Build an object of class `NearestMeanClassifier`, train it on the training data, and print the mean vector for each class."
   ]
  },
  {
   "cell_type": "code",
   "execution_count": null,
   "metadata": {},
   "outputs": [],
   "source": [
    "### Replace by your own code\n",
    "import solutions\n",
    "solutions.exercise6a()\n",
    "###"
   ]
  },
  {
   "cell_type": "markdown",
   "metadata": {},
   "source": [
    "* Predict the test data using the nearest mean classifier and print all test examples for which all three classifiers (decision tree, nearest neighbor and nearest mean) agree."
   ]
  },
  {
   "cell_type": "code",
   "execution_count": null,
   "metadata": {},
   "outputs": [],
   "source": [
    "### Replace by your own code\n",
    "import solutions\n",
    "solutions.exercise6b()\n",
    "###"
   ]
  }
 ],
 "metadata": {
  "kernelspec": {
   "display_name": "Python 2",
   "language": "python",
   "name": "python2"
  },
  "language_info": {
   "codemirror_mode": {
    "name": "ipython",
    "version": 2
   },
   "file_extension": ".py",
   "mimetype": "text/x-python",
   "name": "python",
   "nbconvert_exporter": "python",
   "pygments_lexer": "ipython2",
   "version": "2.7.13"
  }
 },
 "nbformat": 4,
 "nbformat_minor": 1
}
